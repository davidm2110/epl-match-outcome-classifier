{
  "cells": [
    {
      "cell_type": "code",
      "execution_count": null,
      "metadata": {
        "id": "0GKhDr6Vzfn_",
        "colab": {
          "base_uri": "https://localhost:8080/"
        },
        "outputId": "710b1db5-4255-4be5-c99b-e65120ef1a79"
      },
      "outputs": [
        {
          "output_type": "stream",
          "name": "stdout",
          "text": [
            "Mounted at /content/gdrive\n"
          ]
        }
      ],
      "source": [
        "from google.colab import drive\n",
        "drive.mount('/content/gdrive', force_remount=True)"
      ]
    },
    {
      "cell_type": "code",
      "execution_count": null,
      "metadata": {
        "id": "YoWU0XMEzdII"
      },
      "outputs": [],
      "source": [
        "import os\n",
        "os.chdir(\"/content/gdrive/My Drive/\")"
      ]
    },
    {
      "cell_type": "code",
      "execution_count": null,
      "metadata": {
        "id": "93iRYCWD14D6"
      },
      "outputs": [],
      "source": [
        "import pandas as pd\n",
        "import numpy as np\n",
        "import glob\n",
        "import datetime\n",
        "import sklearn\n",
        "from sklearn.model_selection import train_test_split\n",
        "from sklearn.neighbors import KNeighborsClassifier, RadiusNeighborsClassifier\n",
        "from sklearn.neural_network import MLPClassifier\n",
        "from sklearn.svm import SVC\n",
        "from sklearn.gaussian_process import GaussianProcessClassifier\n",
        "from sklearn.gaussian_process.kernels import RBF\n",
        "from sklearn.tree import DecisionTreeClassifier, ExtraTreeClassifier\n",
        "from sklearn.ensemble import RandomForestClassifier, AdaBoostClassifier, GradientBoostingClassifier, VotingClassifier, StackingClassifier\n",
        "from sklearn.naive_bayes import GaussianNB, BernoulliNB\n",
        "from sklearn.discriminant_analysis import QuadraticDiscriminantAnalysis, LinearDiscriminantAnalysis\n",
        "import re\n",
        "from sklearn import preprocessing\n",
        "from sklearn.metrics import accuracy_score, f1_score, precision_score, classification_report, recall_score, make_scorer\n",
        "import math\n",
        "\n",
        "from sklearn.inspection import permutation_importance\n",
        "from sklearn.model_selection import GridSearchCV, cross_val_score\n",
        "\n",
        "from sklearn.gaussian_process.kernels import RBF\n",
        "from sklearn.gaussian_process.kernels import DotProduct\n",
        "from sklearn.gaussian_process.kernels import Matern\n",
        "from sklearn.gaussian_process.kernels import RationalQuadratic\n",
        "from sklearn.gaussian_process.kernels import WhiteKernel\n",
        "\n",
        "from sklearn.compose import make_column_transformer\n",
        "from sklearn.preprocessing import MinMaxScaler\n",
        "\n",
        "from statistics import mean\n",
        "\n",
        "import warnings\n",
        "warnings.filterwarnings('ignore')\n",
        "\n",
        "#Variable to dictate what data should be considered for example 2021 would denote the 2021/2022 season and 2017 would denote the 2017/2018 season.\n",
        "startSeason = 2010\n",
        "finishSeason = 2021\n",
        "drawExcluded = False\n"
      ]
    },
    {
      "cell_type": "markdown",
      "metadata": {
        "id": "VkxpGGTQX5du"
      },
      "source": [
        "Create a dataset that each row calculates per team rather than just home and away e.g one big dataset but if home team = liverpool HWins10 will be the number of home wins for liverpool in the last 10."
      ]
    },
    {
      "cell_type": "code",
      "execution_count": null,
      "metadata": {
        "id": "td2sLofB9Tcx"
      },
      "outputs": [],
      "source": [
        "#Read all datasets .csv files into one pandas dataframe\n",
        "path = r'/content/gdrive/My Drive/Datasets/' # use your path\n",
        "all_files = glob.glob(path + \"/*.csv\")\n",
        "li = []\n",
        "seasonCount = 0\n",
        "for filename in all_files:\n",
        "    df = pd.read_csv(filename, index_col=None, header=0, encoding = \"ISO-8859-1\")\n",
        "    li.append(df)\n",
        "    seasonCount += 1\n",
        "\n",
        "frame = pd.concat(li, axis=0, ignore_index=True)\n",
        "\n",
        "#Filter out the betting stats columns for now\n",
        "#Filter out the in games stats like fouls and cards for now also\n",
        "df = frame.loc[: , :\"Referee\"]\n",
        "\n",
        "#Encode the dataframe (possibly should just do separate labelencoders per string column)\n",
        "le = preprocessing.LabelEncoder()\n",
        "df[[\"HomeTeam\", \"AwayTeam\"]] = df[[\"HomeTeam\", \"AwayTeam\"]].apply(le.fit_transform)\n",
        "\n",
        "#Keep only the seasons after the year we have provided as startSeason\n",
        "if startSeason != None:\n",
        "  df = df.loc[df['Year'] >= startSeason]\n",
        "\n",
        "#Keep only the seasons before the year we have provided as finishSeason\n",
        "if finishSeason != None:\n",
        "  df = df.loc[df['Year'] <= finishSeason]\n",
        "\n",
        "if drawExcluded:\n",
        "  df = df.loc[df['FTR'] != \"D\"]\n",
        "\n",
        "df = df.sort_values(by=[\"Year\"], ascending=True)\n",
        "individual_team_df = df.copy()\n",
        "\n",
        "home_goals = []\n",
        "away_goals = []\n",
        "rivals_home = []\n",
        "rivals_away = []\n",
        "\n",
        "for row_num, row in individual_team_df.iterrows():\n",
        "  #calculate the rolling sum of the last 5 games to assess home and away scoring tendencies\n",
        "  individual_team_df[\"HGS5\"] = individual_team_df.loc[individual_team_df['HomeTeam'] == row['HomeTeam']][\"FTHG\"].rolling(min_periods=1, window=5).sum()\n",
        "  individual_team_df[\"AGS5\"] = individual_team_df.loc[individual_team_df['AwayTeam'] == row['AwayTeam']][\"FTAG\"].rolling(min_periods=1, window=5).sum()\n",
        "  individual_team_df[\"RivalsHGS5\"] = individual_team_df.loc[(individual_team_df['AwayTeam'] == row['AwayTeam']) & \n",
        "                                                            (individual_team_df['HomeTeam'] == row['HomeTeam'])][\"FTHG\"].rolling(min_periods=1, window=5).sum()\n",
        "  individual_team_df[\"RivalsAGS5\"] = individual_team_df.loc[(individual_team_df['AwayTeam'] == row['AwayTeam']) & \n",
        "                                                            (individual_team_df['HomeTeam'] == row['HomeTeam'])][\"FTAG\"].rolling(min_periods=1, window=5).sum()\n",
        "\n",
        "  home_goals.append(individual_team_df.loc[row_num,\"HGS5\"])\n",
        "  away_goals.append(individual_team_df.loc[row_num,\"AGS5\"])\n",
        "  rivals_home.append(individual_team_df.loc[row_num,\"RivalsHGS5\"])\n",
        "  rivals_away.append(individual_team_df.loc[row_num,\"RivalsAGS5\"])\n",
        "\n",
        "individual_team_df['HGS5'] = home_goals\n",
        "individual_team_df['AGS5'] = away_goals\n",
        "individual_team_df['RivalsHGS5'] = rivals_home\n",
        "individual_team_df['RivalsAGS5'] = rivals_away\n",
        "\n",
        "#Calculate the average goals scored by home and away in their last 5 games aswell as the last 5 times they played eachother\n",
        "individual_team_df[\"AHGS5\"] = individual_team_df[\"HGS5\"]/5\n",
        "individual_team_df[\"AAGS5\"] = individual_team_df[\"AGS5\"]/5\n",
        "individual_team_df[\"ARivalsHGS5\"] = individual_team_df[\"RivalsHGS5\"]/5\n",
        "individual_team_df[\"ARivalsAGS5\"] = individual_team_df[\"RivalsAGS5\"]/5\n",
        "\n",
        "#Calculate percentage home wins, draws and away wins in the last 5 games\n",
        "individual_team_df[\"HWins5\"] = pd.get_dummies(individual_team_df[\"FTR\"]).rolling(min_periods=1, window=5).sum()[\"H\"]/5\n",
        "individual_team_df[\"AWins5\"] = pd.get_dummies(individual_team_df[\"FTR\"]).rolling(min_periods=1, window=5).sum()[\"A\"]/5\n",
        "if not drawExcluded:\n",
        "  individual_team_df[\"Draws5\"] = pd.get_dummies(individual_team_df[\"FTR\"]).rolling(min_periods=1, window=5).sum()[\"D\"]/5\n",
        "\n",
        "#Drop any rows that have a NaN value in it.\n",
        "feature_set = individual_team_df.rename(columns={\"FTR\": \"Result\"})\n",
        "\n",
        "if drawExcluded: \n",
        "  feature_set = feature_set[[\"HGS5\", \"AGS5\",\"AHGS5\", \"AAGS5\",\"ARivalsHGS5\",\"ARivalsAGS5\", \"HWins5\",\"AWins5\", \"Result\"]]\n",
        "else:\n",
        "  feature_set = feature_set[[\"HGS5\", \"AGS5\",\"AHGS5\", \"AAGS5\", \"ARivalsHGS5\",\"ARivalsAGS5\", \"HWins5\",\"Draws5\",\"AWins5\", \"Result\"]]\n",
        "feature_set = feature_set.dropna()\n",
        "y = np.array(feature_set.loc[:, \"Result\"])\n",
        "X = np.array(feature_set.loc[:,:\"AWins5\"])\n",
        "\n",
        "X_train, X_test, y_train, y_test = train_test_split(X, y, test_size=0.2)\n",
        "\n",
        "gbc = GradientBoostingClassifier()\n",
        "\n",
        "cv_f1_score = round(mean(cross_val_score(\n",
        "    gbc,\n",
        "    X, y,\n",
        "    scoring=make_scorer(f1_score, average='weighted'),\n",
        "    cv=5)),2)\n",
        "\n",
        "cv_accuracy = round(mean(cross_val_score(\n",
        "    gbc,\n",
        "    X, y,\n",
        "    cv=5))*100,2)\n",
        "\n",
        "cv_recall = round(mean(cross_val_score(\n",
        "    gbc,\n",
        "    X, y,\n",
        "    scoring=make_scorer(recall_score, average='macro'),\n",
        "    cv=5))*100,2)\n",
        "\n",
        "cv_precision = round(mean(cross_val_score(\n",
        "    gbc,\n",
        "    X, y,\n",
        "    scoring=make_scorer(precision_score, average='macro'),\n",
        "    cv=5))*100,2)\n",
        "scores_dataframe = pd.DataFrame(columns=['Classifier Name', 'F1-Scores', 'Accuracy', 'Precision', 'Recall'])\n",
        "scores_dataframe.loc[0] = [\"Ensemble Model\",cv_f1_score,\"{}%\".format(cv_accuracy), cv_precision, cv_recall]\n",
        "\n",
        "display(scores_dataframe) \n",
        "print(scores_dataframe.to_latex(index=False))\n"
      ]
    },
    {
      "cell_type": "code",
      "execution_count": null,
      "metadata": {
        "id": "s3qxbjvdBThb",
        "colab": {
          "base_uri": "https://localhost:8080/",
          "height": 295
        },
        "outputId": "daa1c552-c841-4e52-ab07-da3826591f17"
      },
      "outputs": [
        {
          "output_type": "execute_result",
          "data": {
            "text/plain": [
              "<sklearn.metrics._plot.confusion_matrix.ConfusionMatrixDisplay at 0x7f3164037d10>"
            ]
          },
          "metadata": {},
          "execution_count": 34
        },
        {
          "output_type": "display_data",
          "data": {
            "text/plain": [
              "<Figure size 432x288 with 2 Axes>"
            ],
            "image/png": "[encoded data removed]"
          },
          "metadata": {
            "needs_background": "light"
          }
        }
      ],
      "source": [
        "from sklearn.metrics import ConfusionMatrixDisplay\n",
        "import matplotlib.pyplot as plt\n",
        "gbc.fit(X_train, y_train)\n",
        "ConfusionMatrixDisplay.from_estimator(gbc, X_test, y_test)"
      ]
    },
    {
      "cell_type": "markdown",
      "metadata": {
        "id": "8Ga71hMErWiX"
      },
      "source": [
        "Home = 272/324 * 100 = 91.50% accuracy when predicting home wins."
      ]
    },
    {
      "cell_type": "markdown",
      "metadata": {
        "id": "gItmT5Q-r_11"
      },
      "source": [
        "Away = 196/243 * 100 = 80.65% accurcy when predicting away wins."
      ]
    },
    {
      "cell_type": "markdown",
      "metadata": {
        "id": "qVVOIGh-sBr0"
      },
      "source": [
        "Draw = 79/154 * 100 = 51.30% accuracy when predicting draws."
      ]
    }
  ],
  "metadata": {
    "accelerator": "GPU",
    "colab": {
      "collapsed_sections": [],
      "name": "GradientBoostingClassifier.ipynb",
      "provenance": []
    },
    "kernelspec": {
      "display_name": "Python 3",
      "name": "python3"
    },
    "language_info": {
      "name": "python"
    }
  },
  "nbformat": 4,
  "nbformat_minor": 0
}